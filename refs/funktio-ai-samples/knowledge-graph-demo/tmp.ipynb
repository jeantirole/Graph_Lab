{
 "cells": [
  {
   "cell_type": "code",
   "execution_count": 1,
   "metadata": {},
   "outputs": [
    {
     "name": "stderr",
     "output_type": "stream",
     "text": [
      "2024-12-18 15:49:26.309 WARNING streamlit.runtime.scriptrunner_utils.script_run_context: Thread 'MainThread': missing ScriptRunContext! This warning can be ignored when running in bare mode.\n"
     ]
    },
    {
     "data": {
      "text/plain": [
       "True"
      ]
     },
     "execution_count": 1,
     "metadata": {},
     "output_type": "execute_result"
    }
   ],
   "source": [
    "import streamlit as st\n",
    "from streamlit_chat import message\n",
    "from timeit import default_timer as timer\n",
    "\n",
    "from langchain.graphs import Neo4jGraph\n",
    "from langchain.chains import GraphCypherQAChain\n",
    "from langchain.prompts.prompt import PromptTemplate\n",
    "from langchain.chat_models import AzureChatOpenAI\n",
    "import openai\n",
    "from langchain.chat_models import ChatOpenAI\n",
    "\n",
    "import dotenv\n",
    "import os\n",
    "\n",
    "dotenv.load_dotenv()"
   ]
  },
  {
   "cell_type": "code",
   "execution_count": 2,
   "metadata": {},
   "outputs": [
    {
     "name": "stderr",
     "output_type": "stream",
     "text": [
      "/tmp/ipykernel_1405525/2796663808.py:1: LangChainDeprecationWarning: The class `ChatOpenAI` was deprecated in LangChain 0.0.10 and will be removed in 1.0. An updated version of the class exists in the :class:`~langchain-openai package and should be used instead. To use it run `pip install -U :class:`~langchain-openai` and import as `from :class:`~langchain_openai import ChatOpenAI``.\n",
      "  llm = ChatOpenAI(\n"
     ]
    }
   ],
   "source": [
    "llm = ChatOpenAI(\n",
    "    model = \"gpt-4\",\n",
    "    temperature=0,\n",
    "    openai_api_key = openai.api_key\n",
    ")\n",
    "\n",
    "\n",
    "#Neo4j configuration\n",
    "neo4j_url = os.getenv(\"NEO4J_CONNECTION_URL\")\n",
    "neo4j_user = os.getenv(\"NEO4J_USER\")\n",
    "neo4j_password = os.getenv(\"NEO4J_PASSWORD\")\n",
    "\n",
    "# Cypher generation prompt\n",
    "cypher_generation_template = \"\"\"\n",
    "You are an expert Neo4j Cypher translator who converts English to Cypher based on the Neo4j Schema provided, following the instructions below:\n",
    "1. Generate Cypher query compatible ONLY for Neo4j Version 5\n",
    "2. Do not use EXISTS, SIZE, HAVING keywords in the cypher. Use alias when using the WITH keyword\n",
    "3. Use only Nodes and relationships mentioned in the schema\n",
    "4. Always do a case-insensitive and fuzzy search for any properties related search. Eg: to search for a Client, use `toLower(client.id) contains 'neo4j'`. To search for Slack Messages, use 'toLower(SlackMessage.text) contains 'neo4j'`. To search for a project, use `toLower(project.summary) contains 'logistics platform' OR toLower(project.name) contains 'logistics platform'`.)\n",
    "5. Never use relationships that are not mentioned in the given schema\n",
    "6. When asked about projects, Match the properties using case-insensitive matching and the OR-operator, E.g, to find a logistics platform -project, use `toLower(project.summary) contains 'logistics platform' OR toLower(project.name) contains 'logistics platform'`.\n",
    "\n",
    "schema: {schema}\n",
    "\n",
    "Examples:\n",
    "Question: Which client's projects use most of our people?\n",
    "Answer: ```MATCH (c:CLIENT)<-[:HAS_CLIENT]-(p:Project)-[:HAS_PEOPLE]->(person:Person)\n",
    "RETURN c.name AS Client, COUNT(DISTINCT person) AS NumberOfPeople\n",
    "ORDER BY NumberOfPeople DESC```\n",
    "Question: Which person uses the largest number of different technologies?\n",
    "Answer: ```MATCH (person:Person)-[:USES_TECH]->(tech:Technology)\n",
    "RETURN person.name AS PersonName, COUNT(DISTINCT tech) AS NumberOfTechnologies\n",
    "ORDER BY NumberOfTechnologies DESC```\n",
    "\n",
    "Question: {question}\n",
    "\"\"\"\n",
    "\n",
    "cypher_prompt = PromptTemplate(\n",
    "    template = cypher_generation_template,\n",
    "    input_variables = [\"schema\", \"question\"]\n",
    ")\n",
    "\n",
    "CYPHER_QA_TEMPLATE = \"\"\"You are an assistant that helps to form nice and human understandable answers.\n",
    "The information part contains the provided information that you must use to construct an answer.\n",
    "The provided information is authoritative, you must never doubt it or try to use your internal knowledge to correct it.\n",
    "Make the answer sound as a response to the question. Do not mention that you based the result on the given information.\n",
    "If the provided information is empty, say that you don't know the answer.\n",
    "Final answer should be easily readable and structured.\n",
    "Information:\n",
    "{context}\n",
    "\n",
    "Question: {question}\n",
    "Helpful Answer:\"\"\"\n",
    "\n",
    "qa_prompt = PromptTemplate(\n",
    "    input_variables=[\"context\", \"question\"], template=CYPHER_QA_TEMPLATE\n",
    ")\n"
   ]
  },
  {
   "cell_type": "code",
   "execution_count": 5,
   "metadata": {},
   "outputs": [],
   "source": [
    "def query_graph(user_input):\n",
    "    graph = Neo4jGraph(url=neo4j_url, username=neo4j_user, password=neo4j_password)\n",
    "    chain = GraphCypherQAChain.from_llm(\n",
    "        llm=llm,\n",
    "        graph=graph,\n",
    "        verbose=True,\n",
    "        return_intermediate_steps=True,\n",
    "        cypher_prompt=cypher_prompt,\n",
    "        qa_prompt=qa_prompt,\n",
    "        allow_dangerous_requests=True\n",
    "        )\n",
    "    result = chain(user_input)\n",
    "    return result\n"
   ]
  },
  {
   "cell_type": "code",
   "execution_count": 8,
   "metadata": {},
   "outputs": [
    {
     "name": "stdout",
     "output_type": "stream",
     "text": [
      "\n",
      "\n",
      "\u001b[1m> Entering new GraphCypherQAChain chain...\u001b[0m\n",
      "Generated Cypher:\n",
      "\u001b[32;1m\u001b[1;3mMATCH (p:Project)-[:USES_TECH]->(t:Technology)\n",
      "WHERE toLower(t.name) contains 'azure'\n",
      "RETURN p.name AS ProjectName\u001b[0m\n",
      "Full Context:\n",
      "\u001b[32;1m\u001b[1;3m[{'ProjectName': 'BetaHealth Telemedicine Platform on Microsoft Azure'}, {'ProjectName': 'BetaHealth Telemedicine Platform on Microsoft Azure'}, {'ProjectName': 'BetaHealth Telemedicine Platform on Microsoft Azure'}, {'ProjectName': 'BetaHealth Telemedicine Platform on Microsoft Azure'}, {'ProjectName': 'BetaHealth Secure Healthcare Data Analytics Platform on Azure'}, {'ProjectName': 'BetaHealth Secure Healthcare Data Analytics Platform on Azure'}, {'ProjectName': 'BetaHealth Secure Healthcare Data Analytics Platform on Azure'}, {'ProjectName': 'BetaHealth Secure Healthcare Data Analytics Platform on Azure'}, {'ProjectName': 'BetaHealth Secure Healthcare Data Analytics Platform on Azure'}, {'ProjectName': 'BetaHealth Secure Healthcare Data Analytics Platform on Azure'}]\u001b[0m\n",
      "\n",
      "\u001b[1m> Finished chain.\u001b[0m\n",
      "{'query': 'Which of our projects are using Azure', 'result': \"The projects that are using Azure are the 'BetaHealth Telemedicine Platform on Microsoft Azure' and the 'BetaHealth Secure Healthcare Data Analytics Platform on Azure'.\", 'intermediate_steps': [{'query': \"MATCH (p:Project)-[:USES_TECH]->(t:Technology)\\nWHERE toLower(t.name) contains 'azure'\\nRETURN p.name AS ProjectName\"}, {'context': [{'ProjectName': 'BetaHealth Telemedicine Platform on Microsoft Azure'}, {'ProjectName': 'BetaHealth Telemedicine Platform on Microsoft Azure'}, {'ProjectName': 'BetaHealth Telemedicine Platform on Microsoft Azure'}, {'ProjectName': 'BetaHealth Telemedicine Platform on Microsoft Azure'}, {'ProjectName': 'BetaHealth Secure Healthcare Data Analytics Platform on Azure'}, {'ProjectName': 'BetaHealth Secure Healthcare Data Analytics Platform on Azure'}, {'ProjectName': 'BetaHealth Secure Healthcare Data Analytics Platform on Azure'}, {'ProjectName': 'BetaHealth Secure Healthcare Data Analytics Platform on Azure'}, {'ProjectName': 'BetaHealth Secure Healthcare Data Analytics Platform on Azure'}, {'ProjectName': 'BetaHealth Secure Healthcare Data Analytics Platform on Azure'}]}]}\n"
     ]
    }
   ],
   "source": [
    "a = query_graph(\"Which of our projects are using Azure\")\n",
    "print(a)"
   ]
  },
  {
   "cell_type": "code",
   "execution_count": 7,
   "metadata": {},
   "outputs": [
    {
     "data": {
      "text/plain": [
       "{'query': 'who is on charge of Azure project ? ',\n",
       " 'result': \"I'm sorry, but I don't have the information about who is in charge of the Azure project.\",\n",
       " 'intermediate_steps': [{'query': \"MATCH (p:Project)<-[:HAS_PEOPLE]-(person:Person) \\nWHERE toLower(p.name) contains 'azure' OR toLower(p.summary) contains 'azure'\\nRETURN person.name AS PersonName\"},\n",
       "  {'context': [{'PersonName': 'Noah Wilson'},\n",
       "    {'PersonName': 'Ava Jackson'},\n",
       "    {'PersonName': 'Sarah Johnson'},\n",
       "    {'PersonName': 'Amanda Rodriguez'},\n",
       "    {'PersonName': 'Jessica White'},\n",
       "    {'PersonName': 'William Lee'},\n",
       "    {'PersonName': 'Lucas Taylor'},\n",
       "    {'PersonName': 'Liam Thompson'},\n",
       "    {'PersonName': 'Sophia Anderson'},\n",
       "    {'PersonName': 'Lucas Taylor'}]}]}"
      ]
     },
     "execution_count": 7,
     "metadata": {},
     "output_type": "execute_result"
    }
   ],
   "source": [
    "a"
   ]
  }
 ],
 "metadata": {
  "kernelspec": {
   "display_name": "sam",
   "language": "python",
   "name": "python3"
  },
  "language_info": {
   "codemirror_mode": {
    "name": "ipython",
    "version": 3
   },
   "file_extension": ".py",
   "mimetype": "text/x-python",
   "name": "python",
   "nbconvert_exporter": "python",
   "pygments_lexer": "ipython3",
   "version": "3.9.12"
  }
 },
 "nbformat": 4,
 "nbformat_minor": 2
}
