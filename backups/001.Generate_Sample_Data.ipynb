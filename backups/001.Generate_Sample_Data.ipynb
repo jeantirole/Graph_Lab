{
 "cells": [
  {
   "cell_type": "code",
   "execution_count": 1,
   "metadata": {},
   "outputs": [],
   "source": [
    "from datetime import datetime\n",
    "from faker import Faker\n",
    "import pandas as pd\n",
    "from tqdm.notebook import tqdm"
   ]
  },
  {
   "cell_type": "code",
   "execution_count": 2,
   "metadata": {},
   "outputs": [],
   "source": [
    "social_media_users_df = pd.read_csv(\"/disk3/eric/dataset_graph/sample/genres.csv\")"
   ]
  },
  {
   "cell_type": "code",
   "execution_count": 3,
   "metadata": {},
   "outputs": [
    {
     "data": {
      "application/vnd.jupyter.widget-view+json": {
       "model_id": "c78193b30ede4ccbbe5ddd1ab9965291",
       "version_major": 2,
       "version_minor": 0
      },
      "text/plain": [
       "  0%|          | 0/100000 [00:00<?, ?it/s]"
      ]
     },
     "metadata": {},
     "output_type": "display_data"
    }
   ],
   "source": [
    "genres = set()\n",
    "\n",
    "for _, row in tqdm(social_media_users_df[[\"Interests\"]].iterrows(), total=len(social_media_users_df)):\n",
    "    for genre in row[\"Interests\"].replace(\"'\", \"\").split(\",\"):\n",
    "        genre = genre.strip()\n",
    "        genres.add(genre)"
   ]
  },
  {
   "cell_type": "code",
   "execution_count": null,
   "metadata": {},
   "outputs": [],
   "source": [
    "fake = Faker()"
   ]
  },
  {
   "cell_type": "code",
   "execution_count": 5,
   "metadata": {},
   "outputs": [],
   "source": [
    "def create_fake_person():\n",
    "    birth_date = fake.date_of_birth()\n",
    "    age = datetime.date(datetime.now()).year - birth_date.year\n",
    "    \n",
    "    bot_score = fake.pyfloat(left_digits=0, right_digits=2, positive=True, min_value=None, max_value=None)\n",
    "  \n",
    "    _, _, city, country, state = fake.local_latlng(country_code=\"US\")\n",
    "    state = state.split(\"/\")[-1].replace(\"_\", \" \")\n",
    "    location = \" \".join([city, state, country])\n",
    "  \n",
    "    return [fake.uuid4(), fake.first_name(), fake.last_name(), birth_date.strftime(\"%Y-%m-%d\"), age, location, fake.random_element(genres), bot_score]"
   ]
  },
  {
   "cell_type": "code",
   "execution_count": null,
   "metadata": {},
   "outputs": [],
   "source": [
    "people = [create_fake_person() for _ in range(1000)]"
   ]
  },
  {
   "cell_type": "code",
   "execution_count": 7,
   "metadata": {},
   "outputs": [],
   "source": [
    "def create_fake_poster():\n",
    "    birth_date = fake.date_of_birth()\n",
    "    age = datetime.date(datetime.now()).year - birth_date.year\n",
    "    \n",
    "    return [fake.uuid4(), fake.user_name(), age, \";\".join([fake.random_element(genres) for _ in range(fake.random_int(min=1, max=5))])]"
   ]
  },
  {
   "cell_type": "code",
   "execution_count": null,
   "metadata": {},
   "outputs": [],
   "source": [
    "posters = [create_fake_poster() for _ in range(200)]"
   ]
  },
  {
   "cell_type": "code",
   "execution_count": 9,
   "metadata": {},
   "outputs": [],
   "source": [
    "followers = []\n",
    "\n",
    "for person in people:\n",
    "    followers.extend([[person[0], fake.random_element(people)[0]] for _ in range(fake.random_int(min=2, max=10))])"
   ]
  },
  {
   "cell_type": "code",
   "execution_count": 10,
   "metadata": {},
   "outputs": [],
   "source": [
    "subscribers = []\n",
    "\n",
    "for person in people:\n",
    "    subscribers.extend([[person[0], fake.random_element(posters)[0]] for _ in range(fake.random_int(min=2, max=10))])"
   ]
  },
  {
   "cell_type": "code",
   "execution_count": 11,
   "metadata": {},
   "outputs": [
    {
     "data": {
      "text/html": [
       "<div>\n",
       "<style scoped>\n",
       "    .dataframe tbody tr th:only-of-type {\n",
       "        vertical-align: middle;\n",
       "    }\n",
       "\n",
       "    .dataframe tbody tr th {\n",
       "        vertical-align: top;\n",
       "    }\n",
       "\n",
       "    .dataframe thead th {\n",
       "        text-align: right;\n",
       "    }\n",
       "</style>\n",
       "<table border=\"1\" class=\"dataframe\">\n",
       "  <thead>\n",
       "    <tr style=\"text-align: right;\">\n",
       "      <th></th>\n",
       "      <th>personId:ID(Person-ID)</th>\n",
       "      <th>first_name</th>\n",
       "      <th>last_name</th>\n",
       "      <th>birth_date:date</th>\n",
       "      <th>age:int</th>\n",
       "      <th>location</th>\n",
       "      <th>genre</th>\n",
       "      <th>bot_score:float</th>\n",
       "      <th>:LABEL</th>\n",
       "    </tr>\n",
       "  </thead>\n",
       "  <tbody>\n",
       "    <tr>\n",
       "      <th>0</th>\n",
       "      <td>667e4f00-f5e7-4a5e-94a3-ce27256a186c</td>\n",
       "      <td>Jeremiah</td>\n",
       "      <td>West</td>\n",
       "      <td>1994-08-15</td>\n",
       "      <td>30</td>\n",
       "      <td>Martinsburg New York US</td>\n",
       "      <td>Art</td>\n",
       "      <td>0.28</td>\n",
       "      <td>person</td>\n",
       "    </tr>\n",
       "    <tr>\n",
       "      <th>1</th>\n",
       "      <td>417812f9-aea7-4070-9eaa-d614e9d8c7f7</td>\n",
       "      <td>Joseph</td>\n",
       "      <td>Reyes</td>\n",
       "      <td>1948-08-18</td>\n",
       "      <td>76</td>\n",
       "      <td>Yonkers New York US</td>\n",
       "      <td>Outdoor activities</td>\n",
       "      <td>0.98</td>\n",
       "      <td>person</td>\n",
       "    </tr>\n",
       "    <tr>\n",
       "      <th>2</th>\n",
       "      <td>b89835dc-2186-4881-9599-8a45567ca320</td>\n",
       "      <td>Anne</td>\n",
       "      <td>Holmes</td>\n",
       "      <td>1988-10-16</td>\n",
       "      <td>36</td>\n",
       "      <td>Sicklerville New York US</td>\n",
       "      <td>Cooking</td>\n",
       "      <td>0.85</td>\n",
       "      <td>person</td>\n",
       "    </tr>\n",
       "    <tr>\n",
       "      <th>3</th>\n",
       "      <td>f352f169-7bf5-4608-a254-85e55137ec84</td>\n",
       "      <td>Barbara</td>\n",
       "      <td>Hoffman</td>\n",
       "      <td>2011-09-12</td>\n",
       "      <td>13</td>\n",
       "      <td>Riverbank Los Angeles US</td>\n",
       "      <td>Cooking</td>\n",
       "      <td>0.35</td>\n",
       "      <td>person</td>\n",
       "    </tr>\n",
       "    <tr>\n",
       "      <th>4</th>\n",
       "      <td>ab58c5fe-8863-49e4-a23e-95c1871f6f3a</td>\n",
       "      <td>Charles</td>\n",
       "      <td>Carroll</td>\n",
       "      <td>1983-04-01</td>\n",
       "      <td>41</td>\n",
       "      <td>Nampa Boise US</td>\n",
       "      <td>History</td>\n",
       "      <td>0.46</td>\n",
       "      <td>person</td>\n",
       "    </tr>\n",
       "  </tbody>\n",
       "</table>\n",
       "</div>"
      ],
      "text/plain": [
       "                 personId:ID(Person-ID) first_name last_name birth_date:date  \\\n",
       "0  667e4f00-f5e7-4a5e-94a3-ce27256a186c   Jeremiah      West      1994-08-15   \n",
       "1  417812f9-aea7-4070-9eaa-d614e9d8c7f7     Joseph     Reyes      1948-08-18   \n",
       "2  b89835dc-2186-4881-9599-8a45567ca320       Anne    Holmes      1988-10-16   \n",
       "3  f352f169-7bf5-4608-a254-85e55137ec84    Barbara   Hoffman      2011-09-12   \n",
       "4  ab58c5fe-8863-49e4-a23e-95c1871f6f3a    Charles   Carroll      1983-04-01   \n",
       "\n",
       "   age:int                  location               genre  bot_score:float  \\\n",
       "0       30   Martinsburg New York US                 Art             0.28   \n",
       "1       76       Yonkers New York US  Outdoor activities             0.98   \n",
       "2       36  Sicklerville New York US             Cooking             0.85   \n",
       "3       13  Riverbank Los Angeles US             Cooking             0.35   \n",
       "4       41            Nampa Boise US             History             0.46   \n",
       "\n",
       "   :LABEL  \n",
       "0  person  \n",
       "1  person  \n",
       "2  person  \n",
       "3  person  \n",
       "4  person  "
      ]
     },
     "execution_count": 11,
     "metadata": {},
     "output_type": "execute_result"
    }
   ],
   "source": [
    "people_df = pd.DataFrame(people, columns=[\"personId:ID(Person-ID)\", \"first_name\", \"last_name\", \"birth_date:date\", \"age:int\", \"location\", \"genre\", \"bot_score:float\"])\n",
    "people_df[\":LABEL\"] = \"person\"\n",
    "people_df.head()"
   ]
  },
  {
   "cell_type": "code",
   "execution_count": 12,
   "metadata": {},
   "outputs": [
    {
     "data": {
      "text/html": [
       "<div>\n",
       "<style scoped>\n",
       "    .dataframe tbody tr th:only-of-type {\n",
       "        vertical-align: middle;\n",
       "    }\n",
       "\n",
       "    .dataframe tbody tr th {\n",
       "        vertical-align: top;\n",
       "    }\n",
       "\n",
       "    .dataframe thead th {\n",
       "        text-align: right;\n",
       "    }\n",
       "</style>\n",
       "<table border=\"1\" class=\"dataframe\">\n",
       "  <thead>\n",
       "    <tr style=\"text-align: right;\">\n",
       "      <th></th>\n",
       "      <th>posterId:ID(Poster-ID)</th>\n",
       "      <th>username</th>\n",
       "      <th>age:int</th>\n",
       "      <th>genres:string[]</th>\n",
       "      <th>:LABEL</th>\n",
       "    </tr>\n",
       "  </thead>\n",
       "  <tbody>\n",
       "    <tr>\n",
       "      <th>0</th>\n",
       "      <td>2ccbfa41-c6e7-430d-a80d-3b9cd1d0c5c0</td>\n",
       "      <td>michellegonzales</td>\n",
       "      <td>69</td>\n",
       "      <td>Movies;Fashion;Fitness</td>\n",
       "      <td>poster</td>\n",
       "    </tr>\n",
       "    <tr>\n",
       "      <th>1</th>\n",
       "      <td>778f82c9-66ee-4040-8600-c01d04e3ed79</td>\n",
       "      <td>jennaclark</td>\n",
       "      <td>45</td>\n",
       "      <td>Food and dining</td>\n",
       "      <td>poster</td>\n",
       "    </tr>\n",
       "    <tr>\n",
       "      <th>2</th>\n",
       "      <td>818edb86-43b6-4152-b842-8b69d20c97f3</td>\n",
       "      <td>william08</td>\n",
       "      <td>33</td>\n",
       "      <td>Education and learning;Education and learning</td>\n",
       "      <td>poster</td>\n",
       "    </tr>\n",
       "    <tr>\n",
       "      <th>3</th>\n",
       "      <td>8f1ed238-6a1a-478c-85ac-4f942e25a975</td>\n",
       "      <td>michaelperez</td>\n",
       "      <td>2</td>\n",
       "      <td>Travel;Politics</td>\n",
       "      <td>poster</td>\n",
       "    </tr>\n",
       "    <tr>\n",
       "      <th>4</th>\n",
       "      <td>f244c84a-6527-498b-856f-f04667d3d5e3</td>\n",
       "      <td>vlucas</td>\n",
       "      <td>40</td>\n",
       "      <td>Food and dining;Pets;Business and entrepreneur...</td>\n",
       "      <td>poster</td>\n",
       "    </tr>\n",
       "  </tbody>\n",
       "</table>\n",
       "</div>"
      ],
      "text/plain": [
       "                 posterId:ID(Poster-ID)          username  age:int  \\\n",
       "0  2ccbfa41-c6e7-430d-a80d-3b9cd1d0c5c0  michellegonzales       69   \n",
       "1  778f82c9-66ee-4040-8600-c01d04e3ed79        jennaclark       45   \n",
       "2  818edb86-43b6-4152-b842-8b69d20c97f3         william08       33   \n",
       "3  8f1ed238-6a1a-478c-85ac-4f942e25a975      michaelperez        2   \n",
       "4  f244c84a-6527-498b-856f-f04667d3d5e3            vlucas       40   \n",
       "\n",
       "                                     genres:string[]  :LABEL  \n",
       "0                             Movies;Fashion;Fitness  poster  \n",
       "1                                    Food and dining  poster  \n",
       "2      Education and learning;Education and learning  poster  \n",
       "3                                    Travel;Politics  poster  \n",
       "4  Food and dining;Pets;Business and entrepreneur...  poster  "
      ]
     },
     "execution_count": 12,
     "metadata": {},
     "output_type": "execute_result"
    }
   ],
   "source": [
    "posters_df = pd.DataFrame(posters, columns=[\"posterId:ID(Poster-ID)\", \"username\", \"age:int\", \"genres:string[]\"])\n",
    "posters_df[\":LABEL\"] = \"poster\"\n",
    "posters_df.head()"
   ]
  },
  {
   "cell_type": "code",
   "execution_count": 13,
   "metadata": {},
   "outputs": [
    {
     "data": {
      "text/html": [
       "<div>\n",
       "<style scoped>\n",
       "    .dataframe tbody tr th:only-of-type {\n",
       "        vertical-align: middle;\n",
       "    }\n",
       "\n",
       "    .dataframe tbody tr th {\n",
       "        vertical-align: top;\n",
       "    }\n",
       "\n",
       "    .dataframe thead th {\n",
       "        text-align: right;\n",
       "    }\n",
       "</style>\n",
       "<table border=\"1\" class=\"dataframe\">\n",
       "  <thead>\n",
       "    <tr style=\"text-align: right;\">\n",
       "      <th></th>\n",
       "      <th>personId:START_ID(Person-ID)</th>\n",
       "      <th>personId:END_ID(Person-ID)</th>\n",
       "      <th>:TYPE</th>\n",
       "    </tr>\n",
       "  </thead>\n",
       "  <tbody>\n",
       "    <tr>\n",
       "      <th>0</th>\n",
       "      <td>667e4f00-f5e7-4a5e-94a3-ce27256a186c</td>\n",
       "      <td>95642ccc-dba7-48cb-80bd-4b181669499e</td>\n",
       "      <td>follows</td>\n",
       "    </tr>\n",
       "    <tr>\n",
       "      <th>1</th>\n",
       "      <td>667e4f00-f5e7-4a5e-94a3-ce27256a186c</td>\n",
       "      <td>7b6e3bd4-4534-48de-94ea-7c9bf09fd88d</td>\n",
       "      <td>follows</td>\n",
       "    </tr>\n",
       "    <tr>\n",
       "      <th>2</th>\n",
       "      <td>667e4f00-f5e7-4a5e-94a3-ce27256a186c</td>\n",
       "      <td>47b202ff-fa33-4c47-a626-5a5ce055e604</td>\n",
       "      <td>follows</td>\n",
       "    </tr>\n",
       "    <tr>\n",
       "      <th>3</th>\n",
       "      <td>667e4f00-f5e7-4a5e-94a3-ce27256a186c</td>\n",
       "      <td>e9e110e3-c16e-4d9b-8739-f603896bc2d3</td>\n",
       "      <td>follows</td>\n",
       "    </tr>\n",
       "    <tr>\n",
       "      <th>4</th>\n",
       "      <td>417812f9-aea7-4070-9eaa-d614e9d8c7f7</td>\n",
       "      <td>88fa686d-2d38-4a88-8a6e-c18a4bd06694</td>\n",
       "      <td>follows</td>\n",
       "    </tr>\n",
       "  </tbody>\n",
       "</table>\n",
       "</div>"
      ],
      "text/plain": [
       "           personId:START_ID(Person-ID)            personId:END_ID(Person-ID)  \\\n",
       "0  667e4f00-f5e7-4a5e-94a3-ce27256a186c  95642ccc-dba7-48cb-80bd-4b181669499e   \n",
       "1  667e4f00-f5e7-4a5e-94a3-ce27256a186c  7b6e3bd4-4534-48de-94ea-7c9bf09fd88d   \n",
       "2  667e4f00-f5e7-4a5e-94a3-ce27256a186c  47b202ff-fa33-4c47-a626-5a5ce055e604   \n",
       "3  667e4f00-f5e7-4a5e-94a3-ce27256a186c  e9e110e3-c16e-4d9b-8739-f603896bc2d3   \n",
       "4  417812f9-aea7-4070-9eaa-d614e9d8c7f7  88fa686d-2d38-4a88-8a6e-c18a4bd06694   \n",
       "\n",
       "     :TYPE  \n",
       "0  follows  \n",
       "1  follows  \n",
       "2  follows  \n",
       "3  follows  \n",
       "4  follows  "
      ]
     },
     "execution_count": 13,
     "metadata": {},
     "output_type": "execute_result"
    }
   ],
   "source": [
    "followers_df = pd.DataFrame(followers, columns=[\"personId:START_ID(Person-ID)\", \"personId:END_ID(Person-ID)\"])\n",
    "followers_df[\":TYPE\"] = \"follows\"\n",
    "followers_df.head()"
   ]
  },
  {
   "cell_type": "code",
   "execution_count": 14,
   "metadata": {},
   "outputs": [
    {
     "data": {
      "text/html": [
       "<div>\n",
       "<style scoped>\n",
       "    .dataframe tbody tr th:only-of-type {\n",
       "        vertical-align: middle;\n",
       "    }\n",
       "\n",
       "    .dataframe tbody tr th {\n",
       "        vertical-align: top;\n",
       "    }\n",
       "\n",
       "    .dataframe thead th {\n",
       "        text-align: right;\n",
       "    }\n",
       "</style>\n",
       "<table border=\"1\" class=\"dataframe\">\n",
       "  <thead>\n",
       "    <tr style=\"text-align: right;\">\n",
       "      <th></th>\n",
       "      <th>personId:START_ID(Person-ID)</th>\n",
       "      <th>posterId:END_ID(Poster-ID)</th>\n",
       "      <th>:TYPE</th>\n",
       "    </tr>\n",
       "  </thead>\n",
       "  <tbody>\n",
       "    <tr>\n",
       "      <th>0</th>\n",
       "      <td>667e4f00-f5e7-4a5e-94a3-ce27256a186c</td>\n",
       "      <td>a3279e3f-e979-474d-8972-20b3d899147d</td>\n",
       "      <td>subscribes_to</td>\n",
       "    </tr>\n",
       "    <tr>\n",
       "      <th>1</th>\n",
       "      <td>667e4f00-f5e7-4a5e-94a3-ce27256a186c</td>\n",
       "      <td>74221659-10da-4530-8a06-12ce1c967fda</td>\n",
       "      <td>subscribes_to</td>\n",
       "    </tr>\n",
       "    <tr>\n",
       "      <th>2</th>\n",
       "      <td>667e4f00-f5e7-4a5e-94a3-ce27256a186c</td>\n",
       "      <td>8494050f-2e79-4767-b8f1-af56ba1a3040</td>\n",
       "      <td>subscribes_to</td>\n",
       "    </tr>\n",
       "    <tr>\n",
       "      <th>3</th>\n",
       "      <td>667e4f00-f5e7-4a5e-94a3-ce27256a186c</td>\n",
       "      <td>341845fc-7042-488f-8d14-c1b6f37b867f</td>\n",
       "      <td>subscribes_to</td>\n",
       "    </tr>\n",
       "    <tr>\n",
       "      <th>4</th>\n",
       "      <td>667e4f00-f5e7-4a5e-94a3-ce27256a186c</td>\n",
       "      <td>f0b40d89-6491-4a86-bf35-2dba31de230a</td>\n",
       "      <td>subscribes_to</td>\n",
       "    </tr>\n",
       "  </tbody>\n",
       "</table>\n",
       "</div>"
      ],
      "text/plain": [
       "           personId:START_ID(Person-ID)            posterId:END_ID(Poster-ID)  \\\n",
       "0  667e4f00-f5e7-4a5e-94a3-ce27256a186c  a3279e3f-e979-474d-8972-20b3d899147d   \n",
       "1  667e4f00-f5e7-4a5e-94a3-ce27256a186c  74221659-10da-4530-8a06-12ce1c967fda   \n",
       "2  667e4f00-f5e7-4a5e-94a3-ce27256a186c  8494050f-2e79-4767-b8f1-af56ba1a3040   \n",
       "3  667e4f00-f5e7-4a5e-94a3-ce27256a186c  341845fc-7042-488f-8d14-c1b6f37b867f   \n",
       "4  667e4f00-f5e7-4a5e-94a3-ce27256a186c  f0b40d89-6491-4a86-bf35-2dba31de230a   \n",
       "\n",
       "           :TYPE  \n",
       "0  subscribes_to  \n",
       "1  subscribes_to  \n",
       "2  subscribes_to  \n",
       "3  subscribes_to  \n",
       "4  subscribes_to  "
      ]
     },
     "execution_count": 14,
     "metadata": {},
     "output_type": "execute_result"
    }
   ],
   "source": [
    "subscribers_df = pd.DataFrame(subscribers, columns=[\"personId:START_ID(Person-ID)\", \"posterId:END_ID(Poster-ID)\"])\n",
    "subscribers_df[\":TYPE\"] = \"subscribes_to\"\n",
    "subscribers_df.head()"
   ]
  },
  {
   "cell_type": "code",
   "execution_count": 15,
   "metadata": {},
   "outputs": [],
   "source": [
    "people_df.to_csv(\"/disk3/eric/dataset_graph/sample/nodes/people.csv\", index=False)\n",
    "posters_df.to_csv(\"/disk3/eric/dataset_graph/sample/nodes/posters.csv\", index=False)\n",
    "followers_df.to_csv(\"/disk3/eric/dataset_graph/sample/edges/follows.csv\", index=False)\n",
    "subscribers_df.to_csv(\"/disk3/eric/dataset_graph/sample/edges/subscribes.csv\", index=False)"
   ]
  },
  {
   "cell_type": "code",
   "execution_count": null,
   "metadata": {},
   "outputs": [],
   "source": []
  }
 ],
 "metadata": {
  "kernelspec": {
   "display_name": "sam",
   "language": "python",
   "name": "python3"
  },
  "language_info": {
   "codemirror_mode": {
    "name": "ipython",
    "version": 3
   },
   "file_extension": ".py",
   "mimetype": "text/x-python",
   "name": "python",
   "nbconvert_exporter": "python",
   "pygments_lexer": "ipython3",
   "version": "3.9.12"
  }
 },
 "nbformat": 4,
 "nbformat_minor": 2
}
